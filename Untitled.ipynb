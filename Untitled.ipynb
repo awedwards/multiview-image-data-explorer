{
 "cells": [
  {
   "cell_type": "code",
   "execution_count": 8,
   "metadata": {},
   "outputs": [],
   "source": [
    "import pandas as pd\n",
    "import matplotlib.pyplot as plt"
   ]
  },
  {
   "cell_type": "code",
   "execution_count": 28,
   "metadata": {},
   "outputs": [],
   "source": [
    "df = pd.read_csv(\"/media/bidc/DrosophilaMelanogaster/J_Vasquez/training_images/Priority_1/0274B/20200227/0274B_outer.csv\")"
   ]
  },
  {
   "cell_type": "code",
   "execution_count": 29,
   "metadata": {},
   "outputs": [
    {
     "data": {
      "text/plain": [
       "(array([ 664., 4454., 4164., 2380., 1543., 1212., 1002.,  933.,  880.,\n",
       "         756.,  646.,  572.,  535.,  502.,  475.,  428.,  414.,  412.,\n",
       "         378.,  348.,  351.,  302.,  313.,  317.,  320.,  298.,  269.,\n",
       "         270.,  260.,  236.,  266.,  232.,  270.,  227.,  248.,  259.,\n",
       "         233.,  234.,  229.,  217.,  187.,  200.,  194.,  213.,  214.,\n",
       "         188.,  182.,  175.,  210.,  189.,  221.,  176.,  180.,  188.,\n",
       "         191.,  171.,  187.,  149.,  184.,  165.,  159.,  161.,  149.,\n",
       "         137.,  159.,  154.,  134.,  128.,  135.,  148.,  131.,  131.,\n",
       "         129.,  113.,  121.,  114.,  129.,  115.,  136.,  111.,  106.,\n",
       "         101.,  116.,  117.,   92.,  100.,   80.,  103.,  103.,   80.,\n",
       "          89.,   80.,   86.,   74.,   80.,   73.,   71.,   79.,   64.,\n",
       "        2104.]),\n",
       " array([  395. ,  1046.4,  1697.8,  2349.2,  3000.6,  3652. ,  4303.4,\n",
       "         4954.8,  5606.2,  6257.6,  6909. ,  7560.4,  8211.8,  8863.2,\n",
       "         9514.6, 10166. , 10817.4, 11468.8, 12120.2, 12771.6, 13423. ,\n",
       "        14074.4, 14725.8, 15377.2, 16028.6, 16680. , 17331.4, 17982.8,\n",
       "        18634.2, 19285.6, 19937. , 20588.4, 21239.8, 21891.2, 22542.6,\n",
       "        23194. , 23845.4, 24496.8, 25148.2, 25799.6, 26451. , 27102.4,\n",
       "        27753.8, 28405.2, 29056.6, 29708. , 30359.4, 31010.8, 31662.2,\n",
       "        32313.6, 32965. , 33616.4, 34267.8, 34919.2, 35570.6, 36222. ,\n",
       "        36873.4, 37524.8, 38176.2, 38827.6, 39479. , 40130.4, 40781.8,\n",
       "        41433.2, 42084.6, 42736. , 43387.4, 44038.8, 44690.2, 45341.6,\n",
       "        45993. , 46644.4, 47295.8, 47947.2, 48598.6, 49250. , 49901.4,\n",
       "        50552.8, 51204.2, 51855.6, 52507. , 53158.4, 53809.8, 54461.2,\n",
       "        55112.6, 55764. , 56415.4, 57066.8, 57718.2, 58369.6, 59021. ,\n",
       "        59672.4, 60323.8, 60975.2, 61626.6, 62278. , 62929.4, 63580.8,\n",
       "        64232.2, 64883.6, 65535. ]),\n",
       " <a list of 100 Patch objects>)"
      ]
     },
     "execution_count": 29,
     "metadata": {},
     "output_type": "execute_result"
    },
    {
     "data": {
      "image/png": "[encoded data removed]",
      "text/plain": [
       "<Figure size 432x288 with 1 Axes>"
      ]
     },
     "metadata": {
      "needs_background": "light"
     },
     "output_type": "display_data"
    }
   ],
   "source": [
    "\n",
    "plt.hist(df[\"Maximum intensity_0\"], bins=100)"
   ]
  },
  {
   "cell_type": "code",
   "execution_count": 30,
   "metadata": {},
   "outputs": [
    {
     "data": {
      "text/plain": [
       "(array([1.070e+02, 7.120e+02, 1.846e+03, 2.110e+03, 2.243e+03, 2.716e+03,\n",
       "        2.763e+03, 2.682e+03, 2.640e+03, 2.355e+03, 2.187e+03, 2.004e+03,\n",
       "        1.782e+03, 1.540e+03, 1.371e+03, 1.167e+03, 1.019e+03, 8.580e+02,\n",
       "        7.240e+02, 5.970e+02, 5.550e+02, 5.050e+02, 4.360e+02, 3.320e+02,\n",
       "        3.240e+02, 3.020e+02, 2.160e+02, 2.270e+02, 2.140e+02, 1.810e+02,\n",
       "        1.860e+02, 1.390e+02, 1.250e+02, 1.280e+02, 1.120e+02, 9.300e+01,\n",
       "        7.000e+01, 7.100e+01, 6.000e+01, 6.700e+01, 5.200e+01, 5.800e+01,\n",
       "        3.800e+01, 3.200e+01, 3.800e+01, 2.400e+01, 2.700e+01, 3.100e+01,\n",
       "        2.300e+01, 2.300e+01, 1.900e+01, 1.600e+01, 1.200e+01, 1.500e+01,\n",
       "        1.200e+01, 1.600e+01, 1.500e+01, 4.000e+00, 1.000e+01, 2.000e+00,\n",
       "        3.000e+00, 3.000e+00, 9.000e+00, 3.000e+00, 7.000e+00, 4.000e+00,\n",
       "        3.000e+00, 3.000e+00, 3.000e+00, 4.000e+00, 4.000e+00, 1.000e+00,\n",
       "        2.000e+00, 1.000e+00, 3.000e+00, 2.000e+00, 4.000e+00, 0.000e+00,\n",
       "        1.000e+00, 3.000e+00, 0.000e+00, 0.000e+00, 0.000e+00, 0.000e+00,\n",
       "        0.000e+00, 2.000e+00, 0.000e+00, 0.000e+00, 1.000e+00, 1.000e+00,\n",
       "        0.000e+00, 0.000e+00, 2.000e+00, 0.000e+00, 0.000e+00, 0.000e+00,\n",
       "        0.000e+00, 0.000e+00, 0.000e+00, 3.000e+00]),\n",
       " array([  684.  ,  1332.51,  1981.02,  2629.53,  3278.04,  3926.55,\n",
       "         4575.06,  5223.57,  5872.08,  6520.59,  7169.1 ,  7817.61,\n",
       "         8466.12,  9114.63,  9763.14, 10411.65, 11060.16, 11708.67,\n",
       "        12357.18, 13005.69, 13654.2 , 14302.71, 14951.22, 15599.73,\n",
       "        16248.24, 16896.75, 17545.26, 18193.77, 18842.28, 19490.79,\n",
       "        20139.3 , 20787.81, 21436.32, 22084.83, 22733.34, 23381.85,\n",
       "        24030.36, 24678.87, 25327.38, 25975.89, 26624.4 , 27272.91,\n",
       "        27921.42, 28569.93, 29218.44, 29866.95, 30515.46, 31163.97,\n",
       "        31812.48, 32460.99, 33109.5 , 33758.01, 34406.52, 35055.03,\n",
       "        35703.54, 36352.05, 37000.56, 37649.07, 38297.58, 38946.09,\n",
       "        39594.6 , 40243.11, 40891.62, 41540.13, 42188.64, 42837.15,\n",
       "        43485.66, 44134.17, 44782.68, 45431.19, 46079.7 , 46728.21,\n",
       "        47376.72, 48025.23, 48673.74, 49322.25, 49970.76, 50619.27,\n",
       "        51267.78, 51916.29, 52564.8 , 53213.31, 53861.82, 54510.33,\n",
       "        55158.84, 55807.35, 56455.86, 57104.37, 57752.88, 58401.39,\n",
       "        59049.9 , 59698.41, 60346.92, 60995.43, 61643.94, 62292.45,\n",
       "        62940.96, 63589.47, 64237.98, 64886.49, 65535.  ]),\n",
       " <a list of 100 Patch objects>)"
      ]
     },
     "execution_count": 30,
     "metadata": {},
     "output_type": "execute_result"
    },
    {
     "data": {
      "image/png": "[encoded data removed]",
      "text/plain": [
       "<Figure size 432x288 with 1 Axes>"
      ]
     },
     "metadata": {
      "needs_background": "light"
     },
     "output_type": "display_data"
    }
   ],
   "source": [
    "plt.hist(df[\"Maximum intensity_1\"], bins=100)"
   ]
  },
  {
   "cell_type": "code",
   "execution_count": null,
   "metadata": {},
   "outputs": [],
   "source": []
  }
 ],
 "metadata": {
  "kernelspec": {
   "display_name": "Python 3.7.5 64-bit ('ilastik': conda)",
   "language": "python",
   "name": "python37564bitilastikcondae7e37e32433941a08c46654a163a12dd"
  },
  "language_info": {
   "codemirror_mode": {
    "name": "ipython",
    "version": 3
   },
   "file_extension": ".py",
   "mimetype": "text/x-python",
   "name": "python",
   "nbconvert_exporter": "python",
   "pygments_lexer": "ipython3",
   "version": "3.7.5"
  }
 },
 "nbformat": 4,
 "nbformat_minor": 2
}
